{
 "cells": [
  {
   "cell_type": "code",
   "execution_count": 1,
   "id": "5b528b86-a8ea-4c1a-bc68-20884e7b058a",
   "metadata": {},
   "outputs": [],
   "source": [
    "import pandas as pd\n",
    "import seaborn as sns\n",
    "import os\n",
    "from tqdm import tqdm"
   ]
  },
  {
   "cell_type": "code",
   "execution_count": 2,
   "id": "2c1f1b50-c434-4a80-a95c-f4d1e8255a07",
   "metadata": {},
   "outputs": [
    {
     "name": "stderr",
     "output_type": "stream",
     "text": [
      "100%|███████████████████████████████████████████| 91/91 [02:22<00:00,  1.57s/it]\n"
     ]
    }
   ],
   "source": [
    "data_path_2 = \"train_dataset_train_data_Sila/train_data_Sila/data_example/data_Q2_2024/\"\n",
    "\n",
    "csv_files_2 = [f for f in os.listdir(data_path_2) if f.endswith('.csv')]\n",
    "csv_files_2.sort()\n",
    "\n",
    "dfs = []  # список для хранения DataFrame'ов\n",
    "for file in tqdm(csv_files_2):\n",
    "    file_path = os.path.join(data_path_2, file)\n",
    "    df2 = pd.read_csv(file_path)\n",
    "    ls1 = df2[df2['failure'] == 1]['serial_number'].tolist()\n",
    "\n",
    "    df = df2[df2['serial_number'].isin(ls1)]\n",
    "    dfs.append(df)\n",
    "    "
   ]
  },
  {
   "cell_type": "code",
   "execution_count": 3,
   "id": "1395e1dd-7371-4ed9-bde7-aa74dc2407e9",
   "metadata": {},
   "outputs": [],
   "source": [
    "combined_df = pd.concat(dfs, ignore_index=True)"
   ]
  },
  {
   "cell_type": "code",
   "execution_count": 12,
   "id": "2dea39c5-f145-4542-a583-39ef5ec668c0",
   "metadata": {},
   "outputs": [
    {
     "name": "stderr",
     "output_type": "stream",
     "text": [
      "100%|███████████████████████████████████████████| 91/91 [02:20<00:00,  1.54s/it]\n"
     ]
    }
   ],
   "source": [
    "ls1 = combined_df['serial_number'].unique().tolist()\n",
    "\n",
    "dfs2 = []  # список для хранения DataFrame'ов\n",
    "for file in tqdm(csv_files_2):\n",
    "    file_path = os.path.join(data_path_2, file)\n",
    "    df2 = pd.read_csv(file_path)\n",
    "    df = df2[df2['serial_number'].isin(ls1)]\n",
    "    dfs2.append(df)"
   ]
  },
  {
   "cell_type": "code",
   "execution_count": 13,
   "id": "b42d37ab-cedd-497c-8aff-7982a59420ab",
   "metadata": {},
   "outputs": [],
   "source": [
    "combined_df2 = pd.concat(dfs2, ignore_index=True)"
   ]
  },
  {
   "cell_type": "code",
   "execution_count": 18,
   "id": "2aea8f5b-c504-41af-ae75-538876dd781f",
   "metadata": {},
   "outputs": [
    {
     "name": "stderr",
     "output_type": "stream",
     "text": [
      "<frozen importlib._bootstrap>:219: RuntimeWarning: pyarrow.lib.IpcWriteOptions size changed, may indicate binary incompatibility. Expected 72 from C header, got 88 from PyObject\n",
      "<frozen importlib._bootstrap>:219: RuntimeWarning: pyarrow.lib.IpcReadOptions size changed, may indicate binary incompatibility. Expected 96 from C header, got 104 from PyObject\n",
      "<frozen importlib._bootstrap>:219: RuntimeWarning: pyarrow._fs.FileInfo size changed, may indicate binary incompatibility. Expected 64 from C header, got 88 from PyObject\n",
      "<frozen importlib._bootstrap>:219: RuntimeWarning: pyarrow._fs.FileSelector size changed, may indicate binary incompatibility. Expected 48 from C header, got 72 from PyObject\n"
     ]
    }
   ],
   "source": [
    "combined_df2.to_parquet(\"Q2_2024.pq\")"
   ]
  },
  {
   "cell_type": "code",
   "execution_count": 19,
   "id": "f25c1535-6d12-4c4c-a049-3ff9125f7b67",
   "metadata": {},
   "outputs": [],
   "source": [
    "data = pd.read_parquet(\"Q2_2024.pq\")"
   ]
  },
  {
   "cell_type": "markdown",
   "id": "fd011a63-9e07-4bcc-a77c-13257902042b",
   "metadata": {},
   "source": [
    "## Q1 2024"
   ]
  },
  {
   "cell_type": "code",
   "execution_count": 30,
   "id": "76986077-ca01-4a51-b41c-55332bd6a32f",
   "metadata": {},
   "outputs": [
    {
     "name": "stderr",
     "output_type": "stream",
     "text": [
      "100%|███████████████████████████████████████████| 91/91 [02:15<00:00,  1.49s/it]\n"
     ]
    }
   ],
   "source": [
    "data_path_2 = \"train_dataset_train_data_Sila/train_data_Sila/data_example/data_Q1_2024/\"\n",
    "\n",
    "csv_files_2 = [f for f in os.listdir(data_path_2) if f.endswith('.csv')]\n",
    "csv_files_2.sort()\n",
    "\n",
    "arrs = []  # список для хранения DataFrame'ов\n",
    "for file in tqdm(csv_files_2):\n",
    "    file_path = os.path.join(data_path_2, file)\n",
    "    df2 = pd.read_csv(file_path)\n",
    "    ls1 = df2[df2['failure'] == 1]['serial_number'].tolist()\n",
    "    arrs+=ls1\n"
   ]
  },
  {
   "cell_type": "code",
   "execution_count": 37,
   "id": "282d9b08-8475-43f7-a7a5-ecc08ff476e2",
   "metadata": {},
   "outputs": [
    {
     "data": {
      "text/plain": [
       "(978, 1230)"
      ]
     },
     "execution_count": 37,
     "metadata": {},
     "output_type": "execute_result"
    }
   ],
   "source": [
    "len(arrs), len(combined_df2['serial_number'].unique().tolist())"
   ]
  },
  {
   "cell_type": "code",
   "execution_count": 35,
   "id": "1ba732b6-917b-4d2e-b1ea-411c3aee3a97",
   "metadata": {},
   "outputs": [],
   "source": [
    "ls1 = list(set(combined_df2['serial_number'].unique().tolist()+arrs))"
   ]
  },
  {
   "cell_type": "code",
   "execution_count": 39,
   "id": "54dfc2f1-e6aa-4ecb-99d9-ad73f219c156",
   "metadata": {},
   "outputs": [
    {
     "name": "stderr",
     "output_type": "stream",
     "text": [
      "100%|███████████████████████████████████████████| 91/91 [02:13<00:00,  1.47s/it]\n"
     ]
    }
   ],
   "source": [
    "dfs2 = []  # список для хранения DataFrame'ов\n",
    "for file in tqdm(csv_files_2):\n",
    "    file_path = os.path.join(data_path_2, file)\n",
    "    df2 = pd.read_csv(file_path)\n",
    "    df = df2[df2['serial_number'].isin(ls1)]\n",
    "    dfs2.append(df)"
   ]
  },
  {
   "cell_type": "code",
   "execution_count": 40,
   "id": "c3326628-e870-4dc7-bd3e-a839dc441834",
   "metadata": {},
   "outputs": [],
   "source": [
    "combined_df_q1_24 = pd.concat(dfs2, ignore_index=True)"
   ]
  },
  {
   "cell_type": "code",
   "execution_count": 50,
   "id": "f1c8c473-7ee3-46ad-add6-b286fe54176c",
   "metadata": {},
   "outputs": [],
   "source": [
    "combined_df_q1_24.to_parquet(\"Q1_2024.pq\")"
   ]
  },
  {
   "cell_type": "code",
   "execution_count": 58,
   "id": "3c209f68-5ec1-4459-83d2-8960c3409226",
   "metadata": {},
   "outputs": [
    {
     "data": {
      "text/plain": [
       "(144203, 193)"
      ]
     },
     "execution_count": 58,
     "metadata": {},
     "output_type": "execute_result"
    }
   ],
   "source": [
    "combined_df_q1_24.shape"
   ]
  },
  {
   "cell_type": "markdown",
   "id": "0abcb160-21c6-4405-b101-caf19c98f0bb",
   "metadata": {},
   "source": [
    "## Q4 2023"
   ]
  },
  {
   "cell_type": "code",
   "execution_count": 51,
   "id": "0f33be5d-f2d3-4239-a8ab-2bc04ff9fd7e",
   "metadata": {},
   "outputs": [
    {
     "name": "stderr",
     "output_type": "stream",
     "text": [
      "100%|███████████████████████████████████████████| 92/92 [02:08<00:00,  1.39s/it]\n"
     ]
    }
   ],
   "source": [
    "data_path_2 = \"train_dataset_train_data_Sila/train_data_Sila/data_example/data_Q4_2023/\"\n",
    "\n",
    "csv_files_2 = [f for f in os.listdir(data_path_2) if f.endswith('.csv')]\n",
    "csv_files_2.sort()\n",
    "\n",
    "arrs = []  # список для хранения DataFrame'ов\n",
    "for file in tqdm(csv_files_2):\n",
    "    file_path = os.path.join(data_path_2, file)\n",
    "    df2 = pd.read_csv(file_path)\n",
    "    ls1 = df2[df2['failure'] == 1]['serial_number'].tolist()\n",
    "    arrs+=ls1\n"
   ]
  },
  {
   "cell_type": "code",
   "execution_count": 52,
   "id": "e486e601-3d34-42b3-826a-333cd4c98cab",
   "metadata": {},
   "outputs": [
    {
     "data": {
      "text/plain": [
       "(1057, 2146)"
      ]
     },
     "execution_count": 52,
     "metadata": {},
     "output_type": "execute_result"
    }
   ],
   "source": [
    "len(arrs), len(combined_df_q1_24['serial_number'].unique().tolist())"
   ]
  },
  {
   "cell_type": "code",
   "execution_count": 53,
   "id": "6f78b17e-a414-4f86-964e-bd8e170342da",
   "metadata": {},
   "outputs": [
    {
     "data": {
      "text/plain": [
       "3203"
      ]
     },
     "execution_count": 53,
     "metadata": {},
     "output_type": "execute_result"
    }
   ],
   "source": [
    "ls1 = list(set(combined_df_q1_24['serial_number'].unique().tolist()+arrs))\n",
    "len(ls1)"
   ]
  },
  {
   "cell_type": "code",
   "execution_count": 54,
   "id": "fde8f5ef-e7de-43ff-89bc-cdeb379bb94b",
   "metadata": {},
   "outputs": [
    {
     "name": "stderr",
     "output_type": "stream",
     "text": [
      "100%|███████████████████████████████████████████| 92/92 [02:13<00:00,  1.45s/it]\n"
     ]
    }
   ],
   "source": [
    "dfs2 = []  # список для хранения DataFrame'ов\n",
    "for file in tqdm(csv_files_2):\n",
    "    file_path = os.path.join(data_path_2, file)\n",
    "    df2 = pd.read_csv(file_path)\n",
    "    df = df2[df2['serial_number'].isin(ls1)]\n",
    "    dfs2.append(df)"
   ]
  },
  {
   "cell_type": "code",
   "execution_count": 55,
   "id": "e0b24a31-c910-4bc2-83ac-a1883e5e4e22",
   "metadata": {},
   "outputs": [],
   "source": [
    "combined_df_q4_23 = pd.concat(dfs2, ignore_index=True)"
   ]
  },
  {
   "cell_type": "code",
   "execution_count": 56,
   "id": "0568183e-135c-4c10-8849-ae37c8d7fbad",
   "metadata": {},
   "outputs": [],
   "source": [
    "combined_df_q4_23.to_parquet(\"Q4_2023.pq\")"
   ]
  },
  {
   "cell_type": "code",
   "execution_count": 57,
   "id": "53437974-07ed-4935-95ee-6d9ec75aa77e",
   "metadata": {},
   "outputs": [
    {
     "data": {
      "text/plain": [
       "(231373, 193)"
      ]
     },
     "execution_count": 57,
     "metadata": {},
     "output_type": "execute_result"
    }
   ],
   "source": [
    "combined_df_q4_23.shape"
   ]
  },
  {
   "cell_type": "markdown",
   "id": "4dca2f49-8fbc-44dc-81f7-520c73c3a14a",
   "metadata": {},
   "source": [
    "## Q3 2023"
   ]
  },
  {
   "cell_type": "code",
   "execution_count": 68,
   "id": "57191549-f544-48b9-bdac-e51c24520fbb",
   "metadata": {},
   "outputs": [
    {
     "name": "stderr",
     "output_type": "stream",
     "text": [
      "100%|███████████████████████████████████████████| 66/66 [01:28<00:00,  1.34s/it]\n"
     ]
    }
   ],
   "source": [
    "data_path_2 = \"train_dataset_train_data_Sila/train_data_Sila/data_example/data_Q3_2023/\"\n",
    "\n",
    "csv_files_2 = [f for f in os.listdir(data_path_2) if f.endswith('.csv')]\n",
    "csv_files_2.sort()\n",
    "\n",
    "arrs = []  # список для хранения DataFrame'ов\n",
    "for file in tqdm(csv_files_2):\n",
    "    file_path = os.path.join(data_path_2, file)\n",
    "    df2 = pd.read_csv(file_path)\n",
    "    ls1 = df2[df2['failure'] == 1]['serial_number'].tolist()\n",
    "    arrs+=ls1\n"
   ]
  },
  {
   "cell_type": "code",
   "execution_count": 69,
   "id": "5c4f8780-74ab-4386-bff2-d6b4280e73af",
   "metadata": {},
   "outputs": [
    {
     "data": {
      "text/plain": [
       "(724, 3141)"
      ]
     },
     "execution_count": 69,
     "metadata": {},
     "output_type": "execute_result"
    }
   ],
   "source": [
    "len(arrs), len(combined_df_q4_23['serial_number'].unique().tolist())"
   ]
  },
  {
   "cell_type": "code",
   "execution_count": 74,
   "id": "d3a92525-5112-4755-a485-bbccfa118008",
   "metadata": {},
   "outputs": [
    {
     "data": {
      "text/plain": [
       "3865"
      ]
     },
     "execution_count": 74,
     "metadata": {},
     "output_type": "execute_result"
    }
   ],
   "source": [
    "ls1 = list(set(combined_df_q4_23['serial_number'].unique().tolist()+arrs))\n",
    "len(ls1)"
   ]
  },
  {
   "cell_type": "code",
   "execution_count": 75,
   "id": "6feb078c-d83c-4601-8514-759f9e9bbbc6",
   "metadata": {},
   "outputs": [
    {
     "name": "stderr",
     "output_type": "stream",
     "text": [
      "100%|███████████████████████████████████████████| 66/66 [01:25<00:00,  1.30s/it]\n"
     ]
    }
   ],
   "source": [
    "dfs2 = []  # список для хранения DataFrame'ов\n",
    "for file in tqdm(csv_files_2):\n",
    "    file_path = os.path.join(data_path_2, file)\n",
    "    df2 = pd.read_csv(file_path)\n",
    "    df = df2[df2['serial_number'].isin(ls1)]\n",
    "    dfs2.append(df)"
   ]
  },
  {
   "cell_type": "code",
   "execution_count": 76,
   "id": "327c2880-07bb-43a1-aa9f-9f0e72a4391c",
   "metadata": {},
   "outputs": [],
   "source": [
    "combined_df_q3_23 = pd.concat(dfs2, ignore_index=True)\n",
    "combined_df_q3_23.to_parquet(\"Q3_2023.pq\")"
   ]
  },
  {
   "cell_type": "code",
   "execution_count": 77,
   "id": "606f5de3-381b-43a9-a8b0-db58b2a18c84",
   "metadata": {},
   "outputs": [
    {
     "data": {
      "text/plain": [
       "(220489, 193)"
      ]
     },
     "execution_count": 77,
     "metadata": {},
     "output_type": "execute_result"
    }
   ],
   "source": [
    "combined_df_q3_23.shape"
   ]
  },
  {
   "cell_type": "markdown",
   "id": "df7e4762-933c-4817-aa1e-b2d745ec5e3e",
   "metadata": {},
   "source": [
    "## Q2 2023"
   ]
  },
  {
   "cell_type": "code",
   "execution_count": 78,
   "id": "acab6b1d-9234-4606-add8-41ee752b99c1",
   "metadata": {},
   "outputs": [
    {
     "name": "stderr",
     "output_type": "stream",
     "text": [
      "100%|███████████████████████████████████████████| 91/91 [01:37<00:00,  1.07s/it]\n"
     ]
    }
   ],
   "source": [
    "data_path_2 = \"train_dataset_train_data_Sila/train_data_Sila/data_example/data_Q2_2023/\"\n",
    "\n",
    "csv_files_2 = [f for f in os.listdir(data_path_2) if f.endswith('.csv')]\n",
    "csv_files_2.sort()\n",
    "\n",
    "arrs = []  # список для хранения DataFrame'ов\n",
    "for file in tqdm(csv_files_2):\n",
    "    file_path = os.path.join(data_path_2, file)\n",
    "    df2 = pd.read_csv(file_path)\n",
    "    ls1 = df2[df2['failure'] == 1]['serial_number'].tolist()\n",
    "    arrs+=ls1\n"
   ]
  },
  {
   "cell_type": "code",
   "execution_count": 79,
   "id": "c24f401a-e3d7-4384-ba74-89f6f15d1bcd",
   "metadata": {},
   "outputs": [
    {
     "data": {
      "text/plain": [
       "(1389, 3777)"
      ]
     },
     "execution_count": 79,
     "metadata": {},
     "output_type": "execute_result"
    }
   ],
   "source": [
    "len(arrs), len(combined_df_q3_23['serial_number'].unique().tolist())"
   ]
  },
  {
   "cell_type": "code",
   "execution_count": 80,
   "id": "29f9c59c-ef65-4c87-93e8-91bd616b75c0",
   "metadata": {},
   "outputs": [
    {
     "data": {
      "text/plain": [
       "5166"
      ]
     },
     "execution_count": 80,
     "metadata": {},
     "output_type": "execute_result"
    }
   ],
   "source": [
    "ls1 = list(set(combined_df_q3_23['serial_number'].unique().tolist()+arrs))\n",
    "len(ls1)"
   ]
  },
  {
   "cell_type": "code",
   "execution_count": 81,
   "id": "60eeb14f-c9ff-4002-b732-8c9e345678e1",
   "metadata": {},
   "outputs": [
    {
     "name": "stderr",
     "output_type": "stream",
     "text": [
      "100%|███████████████████████████████████████████| 91/91 [01:43<00:00,  1.14s/it]\n"
     ]
    }
   ],
   "source": [
    "dfs2 = []  # список для хранения DataFrame'ов\n",
    "for file in tqdm(csv_files_2):\n",
    "    file_path = os.path.join(data_path_2, file)\n",
    "    df2 = pd.read_csv(file_path)\n",
    "    df = df2[df2['serial_number'].isin(ls1)]\n",
    "    dfs2.append(df)"
   ]
  },
  {
   "cell_type": "code",
   "execution_count": 82,
   "id": "27d907f1-d134-4390-bbde-ed4bf0236bb7",
   "metadata": {},
   "outputs": [],
   "source": [
    "combined_df_q2_23 = pd.concat(dfs2, ignore_index=True)\n",
    "combined_df_q2_23.to_parquet(\"Q2_2023.pq\")"
   ]
  },
  {
   "cell_type": "code",
   "execution_count": 84,
   "id": "62de71c9-7658-4dbe-9b53-d4e2a6287198",
   "metadata": {},
   "outputs": [
    {
     "data": {
      "text/plain": [
       "(369815, 186)"
      ]
     },
     "execution_count": 84,
     "metadata": {},
     "output_type": "execute_result"
    }
   ],
   "source": [
    "combined_df_q2_23.shape"
   ]
  },
  {
   "cell_type": "markdown",
   "id": "b583ab44-5d6c-4184-8e4f-c459986504d0",
   "metadata": {},
   "source": [
    "## Q1 2023"
   ]
  },
  {
   "cell_type": "code",
   "execution_count": 85,
   "id": "377c1964-f4ed-4c9a-b730-02d5523fac45",
   "metadata": {},
   "outputs": [
    {
     "name": "stderr",
     "output_type": "stream",
     "text": [
      "100%|███████████████████████████████████████████| 90/90 [01:28<00:00,  1.01it/s]\n"
     ]
    }
   ],
   "source": [
    "data_path_2 = \"train_dataset_train_data_Sila/train_data_Sila/data_example/data_Q1_2023/\"\n",
    "\n",
    "csv_files_2 = [f for f in os.listdir(data_path_2) if f.endswith('.csv')]\n",
    "csv_files_2.sort()\n",
    "\n",
    "arrs = []  # список для хранения DataFrame'ов\n",
    "for file in tqdm(csv_files_2):\n",
    "    file_path = os.path.join(data_path_2, file)\n",
    "    df2 = pd.read_csv(file_path)\n",
    "    ls1 = df2[df2['failure'] == 1]['serial_number'].tolist()\n",
    "    arrs+=ls1\n"
   ]
  },
  {
   "cell_type": "code",
   "execution_count": 86,
   "id": "7e7b6c67-1fc7-4f03-bf21-162a6a18d61c",
   "metadata": {},
   "outputs": [
    {
     "data": {
      "text/plain": [
       "(929, 4954)"
      ]
     },
     "execution_count": 86,
     "metadata": {},
     "output_type": "execute_result"
    }
   ],
   "source": [
    "len(arrs), len(combined_df_q2_23['serial_number'].unique().tolist())"
   ]
  },
  {
   "cell_type": "code",
   "execution_count": 87,
   "id": "ee90b208-64fa-413b-a15d-fb1998f2876c",
   "metadata": {},
   "outputs": [
    {
     "data": {
      "text/plain": [
       "5883"
      ]
     },
     "execution_count": 87,
     "metadata": {},
     "output_type": "execute_result"
    }
   ],
   "source": [
    "ls1 = list(set(combined_df_q2_23['serial_number'].unique().tolist()+arrs))\n",
    "len(ls1)"
   ]
  },
  {
   "cell_type": "code",
   "execution_count": 88,
   "id": "26a29d1a-e08d-4df4-84be-cd5558dd0761",
   "metadata": {},
   "outputs": [
    {
     "name": "stderr",
     "output_type": "stream",
     "text": [
      "100%|███████████████████████████████████████████| 90/90 [01:31<00:00,  1.02s/it]\n"
     ]
    }
   ],
   "source": [
    "dfs2 = []  # список для хранения DataFrame'ов\n",
    "for file in tqdm(csv_files_2):\n",
    "    file_path = os.path.join(data_path_2, file)\n",
    "    df2 = pd.read_csv(file_path)\n",
    "    df = df2[df2['serial_number'].isin(ls1)]\n",
    "    dfs2.append(df)"
   ]
  },
  {
   "cell_type": "code",
   "execution_count": 89,
   "id": "d47b43bc-6bbd-4c68-923a-dfefef473f34",
   "metadata": {},
   "outputs": [],
   "source": [
    "combined_df_q1_23 = pd.concat(dfs2, ignore_index=True)\n",
    "combined_df_q1_23.to_parquet(\"Q1_2023.pq\")"
   ]
  },
  {
   "cell_type": "code",
   "execution_count": 91,
   "id": "b804b8cf-f2f1-4553-87c9-8858dc480464",
   "metadata": {},
   "outputs": [
    {
     "data": {
      "text/plain": [
       "(482021, 179)"
      ]
     },
     "execution_count": 91,
     "metadata": {},
     "output_type": "execute_result"
    }
   ],
   "source": [
    "combined_df_q1_23.shape"
   ]
  },
  {
   "cell_type": "code",
   "execution_count": null,
   "id": "643edf57-2e1a-4c34-9bd4-d1785db2efd3",
   "metadata": {},
   "outputs": [],
   "source": []
  },
  {
   "cell_type": "code",
   "execution_count": null,
   "id": "35af75ff-9b05-475b-b8fe-163ee2f02ca1",
   "metadata": {},
   "outputs": [],
   "source": []
  },
  {
   "cell_type": "code",
   "execution_count": null,
   "id": "23276277-1b57-4cb4-a338-f087595d77ae",
   "metadata": {},
   "outputs": [],
   "source": []
  },
  {
   "cell_type": "code",
   "execution_count": 93,
   "id": "24cd84e0-6d6d-40d0-99a4-bb835534a15f",
   "metadata": {},
   "outputs": [
    {
     "data": {
      "text/html": [
       "<div>\n",
       "<style scoped>\n",
       "    .dataframe tbody tr th:only-of-type {\n",
       "        vertical-align: middle;\n",
       "    }\n",
       "\n",
       "    .dataframe tbody tr th {\n",
       "        vertical-align: top;\n",
       "    }\n",
       "\n",
       "    .dataframe thead th {\n",
       "        text-align: right;\n",
       "    }\n",
       "</style>\n",
       "<table border=\"1\" class=\"dataframe\">\n",
       "  <thead>\n",
       "    <tr style=\"text-align: right;\">\n",
       "      <th></th>\n",
       "      <th>date</th>\n",
       "      <th>serial_number</th>\n",
       "      <th>model</th>\n",
       "      <th>capacity_bytes</th>\n",
       "      <th>failure</th>\n",
       "      <th>smart_1_normalized</th>\n",
       "      <th>smart_1_raw</th>\n",
       "      <th>smart_2_normalized</th>\n",
       "      <th>smart_2_raw</th>\n",
       "      <th>smart_3_normalized</th>\n",
       "      <th>...</th>\n",
       "      <th>smart_250_normalized</th>\n",
       "      <th>smart_250_raw</th>\n",
       "      <th>smart_251_normalized</th>\n",
       "      <th>smart_251_raw</th>\n",
       "      <th>smart_252_normalized</th>\n",
       "      <th>smart_252_raw</th>\n",
       "      <th>smart_254_normalized</th>\n",
       "      <th>smart_254_raw</th>\n",
       "      <th>smart_255_normalized</th>\n",
       "      <th>smart_255_raw</th>\n",
       "    </tr>\n",
       "  </thead>\n",
       "  <tbody>\n",
       "    <tr>\n",
       "      <th>0</th>\n",
       "      <td>2023-01-01</td>\n",
       "      <td>W300T02T</td>\n",
       "      <td>ST4000DM000</td>\n",
       "      <td>4000787030016</td>\n",
       "      <td>0</td>\n",
       "      <td>114.0</td>\n",
       "      <td>66331104.0</td>\n",
       "      <td>NaN</td>\n",
       "      <td>NaN</td>\n",
       "      <td>91.0</td>\n",
       "      <td>...</td>\n",
       "      <td>NaN</td>\n",
       "      <td>NaN</td>\n",
       "      <td>NaN</td>\n",
       "      <td>NaN</td>\n",
       "      <td>NaN</td>\n",
       "      <td>NaN</td>\n",
       "      <td>NaN</td>\n",
       "      <td>NaN</td>\n",
       "      <td>NaN</td>\n",
       "      <td>NaN</td>\n",
       "    </tr>\n",
       "  </tbody>\n",
       "</table>\n",
       "<p>1 rows × 179 columns</p>\n",
       "</div>"
      ],
      "text/plain": [
       "         date serial_number        model  capacity_bytes  failure  \\\n",
       "0  2023-01-01      W300T02T  ST4000DM000   4000787030016        0   \n",
       "\n",
       "   smart_1_normalized  smart_1_raw  smart_2_normalized  smart_2_raw  \\\n",
       "0               114.0   66331104.0                 NaN          NaN   \n",
       "\n",
       "   smart_3_normalized  ...  smart_250_normalized  smart_250_raw  \\\n",
       "0                91.0  ...                   NaN            NaN   \n",
       "\n",
       "   smart_251_normalized  smart_251_raw  smart_252_normalized  smart_252_raw  \\\n",
       "0                   NaN            NaN                   NaN            NaN   \n",
       "\n",
       "   smart_254_normalized  smart_254_raw  smart_255_normalized  smart_255_raw  \n",
       "0                   NaN            NaN                   NaN            NaN  \n",
       "\n",
       "[1 rows x 179 columns]"
      ]
     },
     "execution_count": 93,
     "metadata": {},
     "output_type": "execute_result"
    }
   ],
   "source": [
    "combined_df_q1_23.head(1)"
   ]
  },
  {
   "cell_type": "code",
   "execution_count": 94,
   "id": "5683e222-c5c5-4089-ab85-378baf836f3f",
   "metadata": {},
   "outputs": [
    {
     "data": {
      "text/html": [
       "<div>\n",
       "<style scoped>\n",
       "    .dataframe tbody tr th:only-of-type {\n",
       "        vertical-align: middle;\n",
       "    }\n",
       "\n",
       "    .dataframe tbody tr th {\n",
       "        vertical-align: top;\n",
       "    }\n",
       "\n",
       "    .dataframe thead th {\n",
       "        text-align: right;\n",
       "    }\n",
       "</style>\n",
       "<table border=\"1\" class=\"dataframe\">\n",
       "  <thead>\n",
       "    <tr style=\"text-align: right;\">\n",
       "      <th></th>\n",
       "      <th>date</th>\n",
       "      <th>serial_number</th>\n",
       "      <th>model</th>\n",
       "      <th>capacity_bytes</th>\n",
       "      <th>failure</th>\n",
       "      <th>vault_id</th>\n",
       "      <th>pod_id</th>\n",
       "      <th>is_legacy_format</th>\n",
       "      <th>smart_1_normalized</th>\n",
       "      <th>smart_1_raw</th>\n",
       "      <th>...</th>\n",
       "      <th>smart_250_normalized</th>\n",
       "      <th>smart_250_raw</th>\n",
       "      <th>smart_251_normalized</th>\n",
       "      <th>smart_251_raw</th>\n",
       "      <th>smart_252_normalized</th>\n",
       "      <th>smart_252_raw</th>\n",
       "      <th>smart_254_normalized</th>\n",
       "      <th>smart_254_raw</th>\n",
       "      <th>smart_255_normalized</th>\n",
       "      <th>smart_255_raw</th>\n",
       "    </tr>\n",
       "  </thead>\n",
       "  <tbody>\n",
       "    <tr>\n",
       "      <th>0</th>\n",
       "      <td>2023-04-01</td>\n",
       "      <td>W300R8BM</td>\n",
       "      <td>ST4000DM000</td>\n",
       "      <td>4000787030016</td>\n",
       "      <td>0</td>\n",
       "      <td>1000</td>\n",
       "      <td>16</td>\n",
       "      <td>False</td>\n",
       "      <td>108.0</td>\n",
       "      <td>17541336.0</td>\n",
       "      <td>...</td>\n",
       "      <td>NaN</td>\n",
       "      <td>NaN</td>\n",
       "      <td>NaN</td>\n",
       "      <td>NaN</td>\n",
       "      <td>NaN</td>\n",
       "      <td>NaN</td>\n",
       "      <td>NaN</td>\n",
       "      <td>NaN</td>\n",
       "      <td>NaN</td>\n",
       "      <td>NaN</td>\n",
       "    </tr>\n",
       "  </tbody>\n",
       "</table>\n",
       "<p>1 rows × 186 columns</p>\n",
       "</div>"
      ],
      "text/plain": [
       "         date serial_number        model  capacity_bytes  failure  vault_id  \\\n",
       "0  2023-04-01      W300R8BM  ST4000DM000   4000787030016        0      1000   \n",
       "\n",
       "   pod_id  is_legacy_format  smart_1_normalized  smart_1_raw  ...  \\\n",
       "0      16             False               108.0   17541336.0  ...   \n",
       "\n",
       "   smart_250_normalized  smart_250_raw  smart_251_normalized  smart_251_raw  \\\n",
       "0                   NaN            NaN                   NaN            NaN   \n",
       "\n",
       "   smart_252_normalized  smart_252_raw  smart_254_normalized  smart_254_raw  \\\n",
       "0                   NaN            NaN                   NaN            NaN   \n",
       "\n",
       "   smart_255_normalized  smart_255_raw  \n",
       "0                   NaN            NaN  \n",
       "\n",
       "[1 rows x 186 columns]"
      ]
     },
     "execution_count": 94,
     "metadata": {},
     "output_type": "execute_result"
    }
   ],
   "source": [
    "combined_df_q2_23.head(1)"
   ]
  },
  {
   "cell_type": "code",
   "execution_count": 95,
   "id": "a459d580-9b2f-45ce-a142-e00ac9a69410",
   "metadata": {},
   "outputs": [
    {
     "data": {
      "text/html": [
       "<div>\n",
       "<style scoped>\n",
       "    .dataframe tbody tr th:only-of-type {\n",
       "        vertical-align: middle;\n",
       "    }\n",
       "\n",
       "    .dataframe tbody tr th {\n",
       "        vertical-align: top;\n",
       "    }\n",
       "\n",
       "    .dataframe thead th {\n",
       "        text-align: right;\n",
       "    }\n",
       "</style>\n",
       "<table border=\"1\" class=\"dataframe\">\n",
       "  <thead>\n",
       "    <tr style=\"text-align: right;\">\n",
       "      <th></th>\n",
       "      <th>date</th>\n",
       "      <th>serial_number</th>\n",
       "      <th>model</th>\n",
       "      <th>capacity_bytes</th>\n",
       "      <th>failure</th>\n",
       "      <th>datacenter</th>\n",
       "      <th>cluster_id</th>\n",
       "      <th>vault_id</th>\n",
       "      <th>pod_id</th>\n",
       "      <th>pod_slot_num</th>\n",
       "      <th>...</th>\n",
       "      <th>smart_250_normalized</th>\n",
       "      <th>smart_250_raw</th>\n",
       "      <th>smart_251_normalized</th>\n",
       "      <th>smart_251_raw</th>\n",
       "      <th>smart_252_normalized</th>\n",
       "      <th>smart_252_raw</th>\n",
       "      <th>smart_254_normalized</th>\n",
       "      <th>smart_254_raw</th>\n",
       "      <th>smart_255_normalized</th>\n",
       "      <th>smart_255_raw</th>\n",
       "    </tr>\n",
       "  </thead>\n",
       "  <tbody>\n",
       "    <tr>\n",
       "      <th>0</th>\n",
       "      <td>2023-07-01</td>\n",
       "      <td>Z302BN64</td>\n",
       "      <td>ST4000DM000</td>\n",
       "      <td>4000787030016</td>\n",
       "      <td>0</td>\n",
       "      <td>sac0</td>\n",
       "      <td>0</td>\n",
       "      <td>1001</td>\n",
       "      <td>1</td>\n",
       "      <td>25.0</td>\n",
       "      <td>...</td>\n",
       "      <td>NaN</td>\n",
       "      <td>NaN</td>\n",
       "      <td>NaN</td>\n",
       "      <td>NaN</td>\n",
       "      <td>NaN</td>\n",
       "      <td>NaN</td>\n",
       "      <td>NaN</td>\n",
       "      <td>NaN</td>\n",
       "      <td>NaN</td>\n",
       "      <td>NaN</td>\n",
       "    </tr>\n",
       "  </tbody>\n",
       "</table>\n",
       "<p>1 rows × 193 columns</p>\n",
       "</div>"
      ],
      "text/plain": [
       "         date serial_number        model  capacity_bytes  failure datacenter  \\\n",
       "0  2023-07-01      Z302BN64  ST4000DM000   4000787030016        0       sac0   \n",
       "\n",
       "   cluster_id  vault_id  pod_id  pod_slot_num  ...  smart_250_normalized  \\\n",
       "0           0      1001       1          25.0  ...                   NaN   \n",
       "\n",
       "   smart_250_raw  smart_251_normalized  smart_251_raw  smart_252_normalized  \\\n",
       "0            NaN                   NaN            NaN                   NaN   \n",
       "\n",
       "   smart_252_raw  smart_254_normalized  smart_254_raw  smart_255_normalized  \\\n",
       "0            NaN                   NaN            NaN                   NaN   \n",
       "\n",
       "   smart_255_raw  \n",
       "0            NaN  \n",
       "\n",
       "[1 rows x 193 columns]"
      ]
     },
     "execution_count": 95,
     "metadata": {},
     "output_type": "execute_result"
    }
   ],
   "source": [
    "combined_df_q3_23.head(1)"
   ]
  },
  {
   "cell_type": "code",
   "execution_count": 96,
   "id": "60ff0027-6de4-41ee-b96f-d349d1003c00",
   "metadata": {},
   "outputs": [
    {
     "data": {
      "text/html": [
       "<div>\n",
       "<style scoped>\n",
       "    .dataframe tbody tr th:only-of-type {\n",
       "        vertical-align: middle;\n",
       "    }\n",
       "\n",
       "    .dataframe tbody tr th {\n",
       "        vertical-align: top;\n",
       "    }\n",
       "\n",
       "    .dataframe thead th {\n",
       "        text-align: right;\n",
       "    }\n",
       "</style>\n",
       "<table border=\"1\" class=\"dataframe\">\n",
       "  <thead>\n",
       "    <tr style=\"text-align: right;\">\n",
       "      <th></th>\n",
       "      <th>date</th>\n",
       "      <th>serial_number</th>\n",
       "      <th>model</th>\n",
       "      <th>capacity_bytes</th>\n",
       "      <th>failure</th>\n",
       "      <th>datacenter</th>\n",
       "      <th>cluster_id</th>\n",
       "      <th>vault_id</th>\n",
       "      <th>pod_id</th>\n",
       "      <th>pod_slot_num</th>\n",
       "      <th>...</th>\n",
       "      <th>smart_250_normalized</th>\n",
       "      <th>smart_250_raw</th>\n",
       "      <th>smart_251_normalized</th>\n",
       "      <th>smart_251_raw</th>\n",
       "      <th>smart_252_normalized</th>\n",
       "      <th>smart_252_raw</th>\n",
       "      <th>smart_254_normalized</th>\n",
       "      <th>smart_254_raw</th>\n",
       "      <th>smart_255_normalized</th>\n",
       "      <th>smart_255_raw</th>\n",
       "    </tr>\n",
       "  </thead>\n",
       "  <tbody>\n",
       "    <tr>\n",
       "      <th>0</th>\n",
       "      <td>2023-10-01</td>\n",
       "      <td>Z4D019KB</td>\n",
       "      <td>ST6000DX000</td>\n",
       "      <td>6001175126016</td>\n",
       "      <td>0</td>\n",
       "      <td>sac0</td>\n",
       "      <td>0</td>\n",
       "      <td>1002</td>\n",
       "      <td>2</td>\n",
       "      <td>44.0</td>\n",
       "      <td>...</td>\n",
       "      <td>NaN</td>\n",
       "      <td>NaN</td>\n",
       "      <td>NaN</td>\n",
       "      <td>NaN</td>\n",
       "      <td>NaN</td>\n",
       "      <td>NaN</td>\n",
       "      <td>NaN</td>\n",
       "      <td>NaN</td>\n",
       "      <td>NaN</td>\n",
       "      <td>NaN</td>\n",
       "    </tr>\n",
       "  </tbody>\n",
       "</table>\n",
       "<p>1 rows × 193 columns</p>\n",
       "</div>"
      ],
      "text/plain": [
       "         date serial_number        model  capacity_bytes  failure datacenter  \\\n",
       "0  2023-10-01      Z4D019KB  ST6000DX000   6001175126016        0       sac0   \n",
       "\n",
       "   cluster_id  vault_id  pod_id  pod_slot_num  ...  smart_250_normalized  \\\n",
       "0           0      1002       2          44.0  ...                   NaN   \n",
       "\n",
       "   smart_250_raw  smart_251_normalized  smart_251_raw  smart_252_normalized  \\\n",
       "0            NaN                   NaN            NaN                   NaN   \n",
       "\n",
       "   smart_252_raw  smart_254_normalized  smart_254_raw  smart_255_normalized  \\\n",
       "0            NaN                   NaN            NaN                   NaN   \n",
       "\n",
       "   smart_255_raw  \n",
       "0            NaN  \n",
       "\n",
       "[1 rows x 193 columns]"
      ]
     },
     "execution_count": 96,
     "metadata": {},
     "output_type": "execute_result"
    }
   ],
   "source": [
    "combined_df_q4_23.head(1)"
   ]
  },
  {
   "cell_type": "code",
   "execution_count": 97,
   "id": "f39ac3de-0177-4675-916d-6129a73113bb",
   "metadata": {},
   "outputs": [
    {
     "data": {
      "text/html": [
       "<div>\n",
       "<style scoped>\n",
       "    .dataframe tbody tr th:only-of-type {\n",
       "        vertical-align: middle;\n",
       "    }\n",
       "\n",
       "    .dataframe tbody tr th {\n",
       "        vertical-align: top;\n",
       "    }\n",
       "\n",
       "    .dataframe thead th {\n",
       "        text-align: right;\n",
       "    }\n",
       "</style>\n",
       "<table border=\"1\" class=\"dataframe\">\n",
       "  <thead>\n",
       "    <tr style=\"text-align: right;\">\n",
       "      <th></th>\n",
       "      <th>date</th>\n",
       "      <th>serial_number</th>\n",
       "      <th>model</th>\n",
       "      <th>capacity_bytes</th>\n",
       "      <th>failure</th>\n",
       "      <th>datacenter</th>\n",
       "      <th>cluster_id</th>\n",
       "      <th>vault_id</th>\n",
       "      <th>pod_id</th>\n",
       "      <th>pod_slot_num</th>\n",
       "      <th>...</th>\n",
       "      <th>smart_250_normalized</th>\n",
       "      <th>smart_250_raw</th>\n",
       "      <th>smart_251_normalized</th>\n",
       "      <th>smart_251_raw</th>\n",
       "      <th>smart_252_normalized</th>\n",
       "      <th>smart_252_raw</th>\n",
       "      <th>smart_254_normalized</th>\n",
       "      <th>smart_254_raw</th>\n",
       "      <th>smart_255_normalized</th>\n",
       "      <th>smart_255_raw</th>\n",
       "    </tr>\n",
       "  </thead>\n",
       "  <tbody>\n",
       "    <tr>\n",
       "      <th>0</th>\n",
       "      <td>2024-01-01</td>\n",
       "      <td>Z302AKQM</td>\n",
       "      <td>ST4000DM000</td>\n",
       "      <td>4000787030016</td>\n",
       "      <td>0</td>\n",
       "      <td>sac0</td>\n",
       "      <td>0</td>\n",
       "      <td>1004</td>\n",
       "      <td>10</td>\n",
       "      <td>20.0</td>\n",
       "      <td>...</td>\n",
       "      <td>NaN</td>\n",
       "      <td>NaN</td>\n",
       "      <td>NaN</td>\n",
       "      <td>NaN</td>\n",
       "      <td>NaN</td>\n",
       "      <td>NaN</td>\n",
       "      <td>NaN</td>\n",
       "      <td>NaN</td>\n",
       "      <td>NaN</td>\n",
       "      <td>NaN</td>\n",
       "    </tr>\n",
       "  </tbody>\n",
       "</table>\n",
       "<p>1 rows × 193 columns</p>\n",
       "</div>"
      ],
      "text/plain": [
       "         date serial_number        model  capacity_bytes  failure datacenter  \\\n",
       "0  2024-01-01      Z302AKQM  ST4000DM000   4000787030016        0       sac0   \n",
       "\n",
       "   cluster_id  vault_id  pod_id  pod_slot_num  ...  smart_250_normalized  \\\n",
       "0           0      1004      10          20.0  ...                   NaN   \n",
       "\n",
       "   smart_250_raw  smart_251_normalized  smart_251_raw  smart_252_normalized  \\\n",
       "0            NaN                   NaN            NaN                   NaN   \n",
       "\n",
       "   smart_252_raw  smart_254_normalized  smart_254_raw  smart_255_normalized  \\\n",
       "0            NaN                   NaN            NaN                   NaN   \n",
       "\n",
       "   smart_255_raw  \n",
       "0            NaN  \n",
       "\n",
       "[1 rows x 193 columns]"
      ]
     },
     "execution_count": 97,
     "metadata": {},
     "output_type": "execute_result"
    }
   ],
   "source": [
    "combined_df_q1_24.head(1)"
   ]
  },
  {
   "cell_type": "code",
   "execution_count": 98,
   "id": "9d2493f9-5c4b-42b9-83de-55af87af44dc",
   "metadata": {},
   "outputs": [
    {
     "data": {
      "text/html": [
       "<div>\n",
       "<style scoped>\n",
       "    .dataframe tbody tr th:only-of-type {\n",
       "        vertical-align: middle;\n",
       "    }\n",
       "\n",
       "    .dataframe tbody tr th {\n",
       "        vertical-align: top;\n",
       "    }\n",
       "\n",
       "    .dataframe thead th {\n",
       "        text-align: right;\n",
       "    }\n",
       "</style>\n",
       "<table border=\"1\" class=\"dataframe\">\n",
       "  <thead>\n",
       "    <tr style=\"text-align: right;\">\n",
       "      <th></th>\n",
       "      <th>date</th>\n",
       "      <th>serial_number</th>\n",
       "      <th>model</th>\n",
       "      <th>capacity_bytes</th>\n",
       "      <th>failure</th>\n",
       "      <th>datacenter</th>\n",
       "      <th>cluster_id</th>\n",
       "      <th>vault_id</th>\n",
       "      <th>pod_id</th>\n",
       "      <th>pod_slot_num</th>\n",
       "      <th>...</th>\n",
       "      <th>smart_250_normalized</th>\n",
       "      <th>smart_250_raw</th>\n",
       "      <th>smart_251_normalized</th>\n",
       "      <th>smart_251_raw</th>\n",
       "      <th>smart_252_normalized</th>\n",
       "      <th>smart_252_raw</th>\n",
       "      <th>smart_254_normalized</th>\n",
       "      <th>smart_254_raw</th>\n",
       "      <th>smart_255_normalized</th>\n",
       "      <th>smart_255_raw</th>\n",
       "    </tr>\n",
       "  </thead>\n",
       "  <tbody>\n",
       "    <tr>\n",
       "      <th>0</th>\n",
       "      <td>2024-04-01</td>\n",
       "      <td>Z305BHRS</td>\n",
       "      <td>ST4000DM000</td>\n",
       "      <td>4000787030016</td>\n",
       "      <td>0</td>\n",
       "      <td>sac0</td>\n",
       "      <td>0</td>\n",
       "      <td>1019</td>\n",
       "      <td>0</td>\n",
       "      <td>29.0</td>\n",
       "      <td>...</td>\n",
       "      <td>NaN</td>\n",
       "      <td>NaN</td>\n",
       "      <td>NaN</td>\n",
       "      <td>NaN</td>\n",
       "      <td>NaN</td>\n",
       "      <td>NaN</td>\n",
       "      <td>NaN</td>\n",
       "      <td>NaN</td>\n",
       "      <td>NaN</td>\n",
       "      <td>NaN</td>\n",
       "    </tr>\n",
       "  </tbody>\n",
       "</table>\n",
       "<p>1 rows × 197 columns</p>\n",
       "</div>"
      ],
      "text/plain": [
       "         date serial_number        model  capacity_bytes  failure datacenter  \\\n",
       "0  2024-04-01      Z305BHRS  ST4000DM000   4000787030016        0       sac0   \n",
       "\n",
       "   cluster_id  vault_id  pod_id  pod_slot_num  ...  smart_250_normalized  \\\n",
       "0           0      1019       0          29.0  ...                   NaN   \n",
       "\n",
       "   smart_250_raw  smart_251_normalized  smart_251_raw  smart_252_normalized  \\\n",
       "0            NaN                   NaN            NaN                   NaN   \n",
       "\n",
       "   smart_252_raw  smart_254_normalized  smart_254_raw  smart_255_normalized  \\\n",
       "0            NaN                   NaN            NaN                   NaN   \n",
       "\n",
       "   smart_255_raw  \n",
       "0            NaN  \n",
       "\n",
       "[1 rows x 197 columns]"
      ]
     },
     "execution_count": 98,
     "metadata": {},
     "output_type": "execute_result"
    }
   ],
   "source": [
    "data.head(1)"
   ]
  },
  {
   "cell_type": "code",
   "execution_count": null,
   "id": "df6656c7-9d3b-4275-8528-80d8ad220a7c",
   "metadata": {},
   "outputs": [],
   "source": []
  },
  {
   "cell_type": "code",
   "execution_count": 2,
   "id": "f6603439-971a-4f73-9c61-e63628b35dbf",
   "metadata": {},
   "outputs": [
    {
     "name": "stderr",
     "output_type": "stream",
     "text": [
      "<frozen importlib._bootstrap>:219: RuntimeWarning: pyarrow.lib.IpcWriteOptions size changed, may indicate binary incompatibility. Expected 72 from C header, got 88 from PyObject\n",
      "<frozen importlib._bootstrap>:219: RuntimeWarning: pyarrow.lib.IpcReadOptions size changed, may indicate binary incompatibility. Expected 96 from C header, got 104 from PyObject\n",
      "<frozen importlib._bootstrap>:219: RuntimeWarning: pyarrow._fs.FileInfo size changed, may indicate binary incompatibility. Expected 64 from C header, got 88 from PyObject\n",
      "<frozen importlib._bootstrap>:219: RuntimeWarning: pyarrow._fs.FileSelector size changed, may indicate binary incompatibility. Expected 48 from C header, got 72 from PyObject\n"
     ]
    }
   ],
   "source": [
    "combined_df_q2_24 = pd.read_parquet(\"Q2_2024.pq\")\n",
    "combined_df_q1_24 = pd.read_parquet(\"Q1_2024.pq\")\n",
    "combined_df_q4_23 = pd.read_parquet(\"Q4_2023.pq\")\n",
    "combined_df_q3_23 = pd.read_parquet(\"Q3_2023.pq\")\n",
    "combined_df_q2_23 = pd.read_parquet(\"Q2_2023.pq\")\n",
    "combined_df_q1_23 = pd.read_parquet(\"Q1_2023.pq\")"
   ]
  },
  {
   "cell_type": "code",
   "execution_count": null,
   "id": "66dcc4b2-6309-417a-b32b-3d6d5abac6f5",
   "metadata": {},
   "outputs": [],
   "source": []
  },
  {
   "cell_type": "code",
   "execution_count": 3,
   "id": "13c1cb04-bac1-4299-9f99-71e35d887eb7",
   "metadata": {},
   "outputs": [],
   "source": [
    "cols = combined_df_q1_23.columns"
   ]
  },
  {
   "cell_type": "code",
   "execution_count": 5,
   "id": "03224ca0-8e1f-4eeb-8b18-be63495cf45f",
   "metadata": {},
   "outputs": [],
   "source": [
    "data_train = pd.concat([combined_df_q2_24[cols], \n",
    "           combined_df_q1_24[cols], \n",
    "           combined_df_q4_23[cols],\n",
    "           combined_df_q3_23[cols],\n",
    "           combined_df_q2_23[cols],\n",
    "           combined_df_q1_23[cols]\n",
    "          ])"
   ]
  },
  {
   "cell_type": "code",
   "execution_count": 10,
   "id": "f4af5161-a92f-41c2-b440-74fb077180b8",
   "metadata": {},
   "outputs": [],
   "source": [
    "data_train.to_parquet(\"data_train.pq\")"
   ]
  },
  {
   "cell_type": "code",
   "execution_count": null,
   "id": "8f6dcf3b-7089-48c6-9d45-455735be153c",
   "metadata": {},
   "outputs": [],
   "source": []
  }
 ],
 "metadata": {
  "kernelspec": {
   "display_name": "Python 3 (ipykernel)",
   "language": "python",
   "name": "python3"
  },
  "language_info": {
   "codemirror_mode": {
    "name": "ipython",
    "version": 3
   },
   "file_extension": ".py",
   "mimetype": "text/x-python",
   "name": "python",
   "nbconvert_exporter": "python",
   "pygments_lexer": "ipython3",
   "version": "3.8.19"
  }
 },
 "nbformat": 4,
 "nbformat_minor": 5
}
